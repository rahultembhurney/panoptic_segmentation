{
 "cells": [
  {
   "cell_type": "code",
   "execution_count": 4,
   "metadata": {},
   "outputs": [],
   "source": [
    "import git\n",
    "import sys\n",
    "from panoptic_segmentation.logger import logging\n",
    "from panoptic_segmentation.exception import AppException\n",
    "\n",
    "\n",
    "     \n",
    "\n",
    "repo = \"https://github.com/VSainteuf/pastis-benchmark.git\"\n",
    "\n",
    "def clone_repo():\n",
    "        '''\n",
    "        Clones the pastis benchmark repor containing dataloaders\n",
    "        '''\n",
    "        try:\n",
    "            logging.info(f\"Cloning rep from {repo}\")\n",
    "            local_path = \"dummy\"\n",
    "            repo_path = git.Repo.clone_from(repo, local_path)\n",
    "            logging.info(f\"Cloning Successful\")\n",
    "            return local_path\n",
    "        \n",
    "        except Exception as e:\n",
    "            logging.info(f\"{AppException(e, sys)}\")\n",
    "            raise AppException(e, sys)\n",
    " \n",
    "# def convert_repo_to_module():\n",
    "#     repo_path = clone_repo()\n",
    "#     with open(f\"{repo_path}/__init__.py\", \"w\") as f:\n",
    "#         pass\n",
    "#     with open(f\"{repo_path}/code/__init__.py\", \"w\") as f:\n",
    "#         pass"
   ]
  },
  {
   "cell_type": "code",
   "execution_count": 5,
   "metadata": {},
   "outputs": [
    {
     "data": {
      "text/plain": [
       "'dummy'"
      ]
     },
     "execution_count": 5,
     "metadata": {},
     "output_type": "execute_result"
    }
   ],
   "source": [
    "# convert_repo_to_module()\n",
    "clone_repo()"
   ]
  },
  {
   "cell_type": "code",
   "execution_count": 6,
   "metadata": {},
   "outputs": [],
   "source": []
  },
  {
   "cell_type": "code",
   "execution_count": null,
   "metadata": {},
   "outputs": [],
   "source": [
    "import os\n",
    "os.path.exists()"
   ]
  }
 ],
 "metadata": {
  "kernelspec": {
   "display_name": "panseg",
   "language": "python",
   "name": "panseg"
  },
  "language_info": {
   "codemirror_mode": {
    "name": "ipython",
    "version": 3
   },
   "file_extension": ".py",
   "mimetype": "text/x-python",
   "name": "python",
   "nbconvert_exporter": "python",
   "pygments_lexer": "ipython3",
   "version": "3.9.18"
  }
 },
 "nbformat": 4,
 "nbformat_minor": 2
}
