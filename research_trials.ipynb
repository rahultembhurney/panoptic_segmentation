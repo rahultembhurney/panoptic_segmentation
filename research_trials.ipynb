{
 "cells": [
  {
   "cell_type": "code",
   "execution_count": 23,
   "metadata": {},
   "outputs": [],
   "source": [
    "import git\n",
    "import sys\n",
    "from panoptic_segmentation.logger import logging\n",
    "from panoptic_segmentation.exception import AppException\n",
    "\n",
    "\n",
    "     \n",
    "\n",
    "repo = \"https://github.com/VSainteuf/pastis-benchmark.git\"\n",
    "\n",
    "def clone_repo():\n",
    "        '''\n",
    "        Clones the pastis benchmark repor containing dataloaders\n",
    "        '''\n",
    "        try:\n",
    "            logging.info(f\"Cloning rep from {repo}\")\n",
    "            local_path = \"dummy\"\n",
    "            repo_path = git.Repo.clone_from(repo, local_path)\n",
    "            logging.info(f\"Cloning Successful\")\n",
    "            return local_path\n",
    "        \n",
    "        except Exception as e:\n",
    "            logging.info(f\"{AppException(e, sys)}\")\n",
    "            raise AppException(e, sys)\n",
    " \n",
    "def convert_repo_to_module():\n",
    "    repo_path = clone_repo()\n",
    "    with open(f\"{repo_path}/__init__.py\", \"w\") as f:\n",
    "        pass\n",
    "    with open(f\"{repo_path}/code/__init__.py\", \"w\") as f:\n",
    "        pass"
   ]
  },
  {
   "cell_type": "code",
   "execution_count": 24,
   "metadata": {},
   "outputs": [],
   "source": [
    "convert_repo_to_module()"
   ]
  },
  {
   "cell_type": "code",
   "execution_count": 1,
   "metadata": {},
   "outputs": [
    {
     "name": "stdout",
     "output_type": "stream",
     "text": [
      "Collecting code@ git+https://github.com/VSainteuf/pastis-benchmark.git\n",
      "  Cloning https://github.com/VSainteuf/pastis-benchmark.git to c:\\users\\riate\\appdata\\local\\temp\\pip-install-36fu6h5k\\code_3c499bf538b145cd972cb8f522206729\n",
      "  Resolved https://github.com/VSainteuf/pastis-benchmark.git to commit ac1830ecfd4c2922b50f8555f142392c31913c75\n"
     ]
    },
    {
     "name": "stderr",
     "output_type": "stream",
     "text": [
      "WARNING: Ignoring invalid distribution -ensorflow-intel (c:\\users\\riate\\appdata\\roaming\\python\\python39\\site-packages)\n",
      "WARNING: Ignoring invalid distribution -ensorflow-intel (c:\\users\\riate\\appdata\\roaming\\python\\python39\\site-packages)\n",
      "  Running command git clone --filter=blob:none --quiet https://github.com/VSainteuf/pastis-benchmark.git 'C:\\Users\\riate\\AppData\\Local\\Temp\\pip-install-36fu6h5k\\code_3c499bf538b145cd972cb8f522206729'\n",
      "ERROR: code@ git+https://github.com/VSainteuf/pastis-benchmark.git from git+https://github.com/VSainteuf/pastis-benchmark.git does not appear to be a Python project: neither 'setup.py' nor 'pyproject.toml' found.\n",
      "WARNING: Ignoring invalid distribution -ensorflow-intel (c:\\users\\riate\\appdata\\roaming\\python\\python39\\site-packages)\n",
      "WARNING: Ignoring invalid distribution -ensorflow-intel (c:\\users\\riate\\appdata\\roaming\\python\\python39\\site-packages)\n",
      "WARNING: Ignoring invalid distribution -ensorflow-intel (c:\\users\\riate\\appdata\\roaming\\python\\python39\\site-packages)\n"
     ]
    }
   ],
   "source": [
    "!pip install code@git+https://github.com/VSainteuf/pastis-benchmark.git"
   ]
  },
  {
   "cell_type": "code",
   "execution_count": null,
   "metadata": {},
   "outputs": [],
   "source": [
    "import os\n",
    "os.path.exists()"
   ]
  }
 ],
 "metadata": {
  "kernelspec": {
   "display_name": "panseg",
   "language": "python",
   "name": "panseg"
  },
  "language_info": {
   "codemirror_mode": {
    "name": "ipython",
    "version": 3
   },
   "file_extension": ".py",
   "mimetype": "text/x-python",
   "name": "python",
   "nbconvert_exporter": "python",
   "pygments_lexer": "ipython3",
   "version": "3.9.18"
  }
 },
 "nbformat": 4,
 "nbformat_minor": 2
}
